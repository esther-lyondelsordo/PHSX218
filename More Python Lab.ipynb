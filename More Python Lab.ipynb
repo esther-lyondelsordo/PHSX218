{
 "cells": [
  {
   "cell_type": "code",
   "execution_count": 49,
   "metadata": {},
   "outputs": [],
   "source": [
    "import numpy as np"
   ]
  },
  {
   "cell_type": "markdown",
   "metadata": {},
   "source": [
    "Let's set up our function: $\\alpha = \\frac{\\Delta L}{L*\\Delta T}$, where $\\alpha$ is the coefficient of linear expansion, $\\Delta L$ is the change in length, $L$ is the initial length of the rod, and $\\Delta T$ is the change in temperature in ."
   ]
  },
  {
   "cell_type": "code",
   "execution_count": 50,
   "metadata": {},
   "outputs": [],
   "source": [
    "def linExpCoeff(DeltaL,L,Tf,Ti):\n",
    "    alpha = DeltaL/(L*(Tf-Ti))\n",
    "    return alpha"
   ]
  },
  {
   "cell_type": "code",
   "execution_count": 51,
   "metadata": {},
   "outputs": [
    {
     "name": "stdout",
     "output_type": "stream",
     "text": [
      "alpha = 1.7228309558266145e-05 /degree C\n"
     ]
    }
   ],
   "source": [
    "L = 1.05\n",
    "dL = .001\n",
    "DeltaL = .00125\n",
    "dDeltaL = .00001\n",
    "Ti = 23.4\n",
    "Tf = 92.5\n",
    "dTi = 0.3\n",
    "dTf = 0.1\n",
    "\n",
    "alpha = linExpCoeff(DeltaL,L,Tf,Ti)\n",
    "print (\"alpha =\",alpha,\"/degree C\")"
   ]
  },
  {
   "cell_type": "code",
   "execution_count": 52,
   "metadata": {},
   "outputs": [],
   "source": [
    "def rule3(dA,dB):\n",
    "    dQ_add = np.sqrt(dA**2+dB**2)\n",
    "    return dQ_add\n"
   ]
  },
  {
   "cell_type": "code",
   "execution_count": 53,
   "metadata": {},
   "outputs": [
    {
     "name": "stdout",
     "output_type": "stream",
     "text": [
      "Uncertainty in Delta T = 0.31622776601683794 degrees C\n",
      "Delta T = 69.1 degrees C\n"
     ]
    }
   ],
   "source": [
    "dA = dTi\n",
    "dB = dTf\n",
    "DeltaT = Tf-Ti\n",
    "\n",
    "dDeltaT = rule3(dA,dB)\n",
    "print (\"Uncertainty in Delta T =\", dDeltaT,\"degrees C\")\n",
    "print (\"Delta T =\",DeltaT,\"degrees C\")"
   ]
  },
  {
   "cell_type": "code",
   "execution_count": 55,
   "metadata": {},
   "outputs": [],
   "source": [
    "def rule4(m,dC,C,n,dD,D,o,dE,E,Q_mult):\n",
    "    dQ_mult = (np.sqrt(((m*(dC/C))**2)+((n*(dD/D))**2)+((o*(dE/E))**2)))*Q_mult\n",
    "    return dQ_mult"
   ]
  },
  {
   "cell_type": "code",
   "execution_count": 56,
   "metadata": {},
   "outputs": [
    {
     "name": "stdout",
     "output_type": "stream",
     "text": [
      "uncertainty in alpha = 1.5962962826045274e-07 /degrees C\n"
     ]
    }
   ],
   "source": [
    "m = 1\n",
    "n = -1\n",
    "o = -1\n",
    "C = .00125\n",
    "dC = .00001\n",
    "D = 1.05\n",
    "dD = .001\n",
    "E = 69.1\n",
    "dE = dDeltaT\n",
    "Q_mult = alpha\n",
    "\n",
    "dalpha = rule4(1,.00001,.00125,-1,.001,1.05,-1,dDeltaT,69.1,alpha)\n",
    "print (\"uncertainty in alpha =\",dalpha,\"/degrees C\")"
   ]
  },
  {
   "cell_type": "code",
   "execution_count": 60,
   "metadata": {},
   "outputs": [
    {
     "name": "stdout",
     "output_type": "stream",
     "text": [
      "alpha +/- uncertainty in alpha = 1.7228309558266145e-05 +/- 1.5962962826045274e-07 /degrees C\n"
     ]
    }
   ],
   "source": [
    "print (\"alpha +/- uncertainty in alpha =\",alpha,\"+/-\",dalpha,\"/degrees C\")"
   ]
  },
  {
   "cell_type": "code",
   "execution_count": null,
   "metadata": {},
   "outputs": [],
   "source": []
  }
 ],
 "metadata": {
  "kernelspec": {
   "display_name": "Python 3",
   "language": "python",
   "name": "python3"
  },
  "language_info": {
   "codemirror_mode": {
    "name": "ipython",
    "version": 3
   },
   "file_extension": ".py",
   "mimetype": "text/x-python",
   "name": "python",
   "nbconvert_exporter": "python",
   "pygments_lexer": "ipython3",
   "version": "3.7.3"
  }
 },
 "nbformat": 4,
 "nbformat_minor": 2
}
